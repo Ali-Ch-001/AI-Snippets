{
  "cells": [
    {
      "cell_type": "markdown",
      "metadata": {
        "id": "bOYWxZTSEhg4"
      },
      "source": [
        "Q-6.1"
      ]
    },
    {
      "cell_type": "code",
      "execution_count": null,
      "metadata": {
        "colab": {
          "base_uri": "https://localhost:8080/"
        },
        "id": "PSh7whW4Ehg6",
        "outputId": "ed05a329-c67a-4352-d2cc-ab33d5a66754"
      },
      "outputs": [
        {
          "output_type": "stream",
          "name": "stdout",
          "text": [
            "Test Case 1:\n",
            "Unique words in first string: set()\n",
            "Unique words in second string: set()\n",
            "Common words: {'hello', 'world'}\n",
            "All words without duplicates: {'hello', 'world'}\n",
            "\n",
            "Test Case 2:\n",
            "Unique words in first string: set()\n",
            "Unique words in second string: {'there'}\n",
            "Common words: {'hello', 'world'}\n",
            "All words without duplicates: {'hello', 'world', 'there'}\n",
            "\n",
            "Test Case 3:\n",
            "Unique words in first string: set()\n",
            "Unique words in second string: set()\n",
            "Common words: {'hello', 'world'}\n",
            "All words without duplicates: {'hello', 'world'}\n"
          ]
        }
      ],
      "source": [
        "def clean_and_split(text):\n",
        "    # Define punctuation characters\n",
        "    punctuation_chars = \"!\\\"#$%&'()*+,-./:;<=>?@[\\\\]^_`{|}~\"\n",
        "\n",
        "\n",
        "    cleaned_text = ''.join(char.lower() for char in text if char not in punctuation_chars)\n",
        "\n",
        "\n",
        "    words = cleaned_text.split()\n",
        "\n",
        "    return words\n",
        "\n",
        "\n",
        "def analyze_strings(str1, str2):\n",
        "\n",
        "    words1 = clean_and_split(str1)\n",
        "    words2 = clean_and_split(str2)\n",
        "\n",
        "\n",
        "    set1 = set(words1)\n",
        "    set2 = set(words2)\n",
        "\n",
        "\n",
        "    common_words = set1.intersection(set2)\n",
        "\n",
        "\n",
        "    unique_words1 = set1.difference(set2)\n",
        "    unique_words2 = set2.difference(set1)\n",
        "\n",
        "\n",
        "    all_words = set1.union(set2)\n",
        "\n",
        "\n",
        "    print(\"Unique words in first string:\", unique_words1)\n",
        "    print(\"Unique words in second string:\", unique_words2)\n",
        "    print(\"Common words:\", common_words)\n",
        "    print(\"All words without duplicates:\", all_words)\n",
        "\n",
        "# Test cases\n",
        "print(\"Test Case 1:\")\n",
        "analyze_strings(\"Hello world\", \"Hello world\")\n",
        "print(\"\\nTest Case 2:\")\n",
        "analyze_strings(\"Hello, world!\", \"Hello there, world.\")\n",
        "print(\"\\nTest Case 3:\")\n",
        "analyze_strings(\"HELLO World\", \"hello world\")\n"
      ]
    },
    {
      "cell_type": "markdown",
      "metadata": {
        "id": "AoivJD6XEhg8"
      },
      "source": [
        "Q-6.2"
      ]
    },
    {
      "cell_type": "code",
      "execution_count": null,
      "metadata": {
        "colab": {
          "base_uri": "https://localhost:8080/"
        },
        "id": "YXb8_yWxEhg9",
        "outputId": "3ed3e8ae-9aa5-4454-9914-ba382a6e9acd"
      },
      "outputs": [
        {
          "output_type": "stream",
          "name": "stdout",
          "text": [
            "Enter the first number: 2\n",
            "Enter the second number: 0\n",
            "Choose operation (+, -, *, /): /\n",
            "Error: Division by zero!\n",
            "Do you want to perform another calculation? (yes/no): no\n",
            "Thank you for using the calculator!\n"
          ]
        }
      ],
      "source": [
        "def addition(num1, num2):\n",
        "    return num1 + num2\n",
        "\n",
        "def subtraction(num1, num2):\n",
        "    return num1 - num2\n",
        "\n",
        "def multiplication(num1, num2):\n",
        "    return num1 * num2\n",
        "\n",
        "def division(num1, num2):\n",
        "    try:\n",
        "        result = num1 / num2\n",
        "        return result\n",
        "    except ZeroDivisionError:\n",
        "        print(\"Error: Division by zero!\")\n",
        "        return None\n",
        "\n",
        "def get_numeric_input(prompt):\n",
        "    while True:\n",
        "        try:\n",
        "            value = float(input(prompt))\n",
        "            return value\n",
        "        except ValueError:\n",
        "            print(\"Error: Please enter a numeric value.\")\n",
        "\n",
        "def main():\n",
        "    while True:\n",
        "\n",
        "        num1 = get_numeric_input(\"Enter the first number: \")\n",
        "        num2 = get_numeric_input(\"Enter the second number: \")\n",
        "\n",
        "\n",
        "        operation = input(\"Choose operation (+, -, *, /): \")\n",
        "\n",
        "\n",
        "        if operation == '+':\n",
        "            result = addition(num1, num2)\n",
        "        elif operation == '-':\n",
        "            result = subtraction(num1, num2)\n",
        "        elif operation == '*':\n",
        "            result = multiplication(num1, num2)\n",
        "        elif operation == '/':\n",
        "            result = division(num1, num2)\n",
        "        else:\n",
        "            print(\"Error: Invalid operation!\")\n",
        "            continue\n",
        "\n",
        "\n",
        "        if result is not None:\n",
        "            print(\"Result:\", result)\n",
        "\n",
        "\n",
        "        another_calculation = input(\"Do you want to perform another calculation? (yes/no): \")\n",
        "        if another_calculation.lower() != 'yes':\n",
        "            print(\"Thank you for using the calculator!\")\n",
        "            break\n",
        "\n",
        "\n",
        "main()\n"
      ]
    },
    {
      "cell_type": "markdown",
      "source": [
        "Q-6.3"
      ],
      "metadata": {
        "id": "J0KHkL-eF59X"
      }
    },
    {
      "cell_type": "code",
      "source": [
        "def reverse_text_file(source_file_path, target_file_path):\n",
        "    source_file = None\n",
        "    target_file = None\n",
        "\n",
        "    try:\n",
        "\n",
        "        source_file = open(source_file_path, 'r')\n",
        "        text = source_file.read()\n",
        "\n",
        "\n",
        "        reversed_text = text[::-1]\n",
        "\n",
        "\n",
        "        target_file = open(target_file_path, 'w')\n",
        "        target_file.write(reversed_text)\n",
        "\n",
        "        print(\"Reversed text has been written to\", target_file_path)\n",
        "\n",
        "    except FileNotFoundError:\n",
        "        print(\"Error: File not found.\")\n",
        "    except Exception as e:\n",
        "        print(\"An error occurred:\", str(e))\n",
        "\n",
        "    finally:\n",
        "\n",
        "        if source_file:\n",
        "            source_file.close()\n",
        "        if target_file:\n",
        "            target_file.close()\n",
        "\n",
        "# Define file paths\n",
        "source_file_path = '/content/Alphabets.txt'\n",
        "target_file_path = '/content/Reversed_Alphabets.txt'\n",
        "\n",
        "# Reverse the text file\n",
        "reverse_text_file(source_file_path, target_file_path)\n"
      ],
      "metadata": {
        "colab": {
          "base_uri": "https://localhost:8080/"
        },
        "id": "IiicMehYGBfu",
        "outputId": "e1b04e64-e900-4c65-a928-46aacc63855c"
      },
      "execution_count": 18,
      "outputs": [
        {
          "output_type": "stream",
          "name": "stdout",
          "text": [
            "Reversed text has been written to /content/Reversed_Alphabets.txt\n"
          ]
        }
      ]
    },
    {
      "cell_type": "markdown",
      "source": [
        "Q-6.4"
      ],
      "metadata": {
        "id": "ytzqlyzmJq-V"
      }
    },
    {
      "cell_type": "code",
      "source": [
        "def sum_file(input_file_path, output_file_path):\n",
        "    total_sum = 0\n",
        "\n",
        "\n",
        "    try:\n",
        "        with open(input_file_path, 'r') as input_file:\n",
        "\n",
        "            for line in input_file:\n",
        "                try:\n",
        "                    number = float(line.strip())\n",
        "                    total_sum += number\n",
        "                except ValueError:\n",
        "                    print(\"Warning: Non-numeric value found in input file. Skipping.\")\n",
        "\n",
        "    except FileNotFoundError:\n",
        "        print(\"Error: Input file not found.\")\n",
        "        return\n",
        "    except PermissionError:\n",
        "        print(\"Error: Permission denied while accessing input file.\")\n",
        "        return\n",
        "\n",
        "\n",
        "    try:\n",
        "        with open(output_file_path, 'w') as output_file:\n",
        "            output_file.write(str(total_sum))\n",
        "            print(\"Sum has been written to\", output_file_path)\n",
        "\n",
        "    except PermissionError:\n",
        "        print(\"Error: Permission denied while writing to output file.\")\n",
        "    except Exception as e:\n",
        "        print(\"An error occurred:\", str(e))\n",
        "\n",
        "# Test the function\n",
        "input_file_path = '/content/correct_input.txt'\n",
        "output_file_path = '/content/output.txt'\n",
        "\n",
        "sum_file(input_file_path, output_file_path)\n",
        "\n",
        "\n",
        "input_file_path = '/content/mixed_input.txt'\n",
        "output_file_path = '/content/output2.txt'\n",
        "\n",
        "sum_file(input_file_path, output_file_path)\n"
      ],
      "metadata": {
        "colab": {
          "base_uri": "https://localhost:8080/"
        },
        "id": "b_faKzHyJqo_",
        "outputId": "559fff19-e1a5-426b-cec5-83370eea053e"
      },
      "execution_count": 22,
      "outputs": [
        {
          "output_type": "stream",
          "name": "stdout",
          "text": [
            "Sum has been written to /content/output.txt\n",
            "Warning: Non-numeric value found in input file. Skipping.\n",
            "Warning: Non-numeric value found in input file. Skipping.\n",
            "Sum has been written to /content/output2.txt\n"
          ]
        }
      ]
    }
  ],
  "metadata": {
    "kernelspec": {
      "display_name": "Python 3",
      "language": "python",
      "name": "python3"
    },
    "language_info": {
      "codemirror_mode": {
        "name": "ipython",
        "version": 3
      },
      "file_extension": ".py",
      "mimetype": "text/x-python",
      "name": "python",
      "nbconvert_exporter": "python",
      "pygments_lexer": "ipython3",
      "version": "3.12.1"
    },
    "colab": {
      "provenance": []
    }
  },
  "nbformat": 4,
  "nbformat_minor": 0
}