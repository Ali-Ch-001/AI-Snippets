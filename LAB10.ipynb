{
 "cells": [
  {
   "cell_type": "code",
   "execution_count": 146,
   "metadata": {},
   "outputs": [
    {
     "name": "stdout",
     "output_type": "stream",
     "text": [
      "OR Gate:\n",
      "[0, 0] 0\n",
      "[0, 1] 1\n",
      "[1, 0] 1\n",
      "[1, 1] 1\n",
      "\n",
      "AND Gate:\n",
      "[0, 0] 0\n",
      "[0, 1] 0\n",
      "[1, 0] 0\n",
      "[1, 1] 1\n"
     ]
    }
   ],
   "source": [
    "import random\n",
    "\n",
    "class Perceptron:\n",
    "    def __init__(self, num_inputs, learning_rate=0.01, epochs=100):\n",
    "        self.weights = [random.uniform(-1, 1) for _ in range(num_inputs + 1)]\n",
    "        self.learning_rate = learning_rate\n",
    "        self.epochs = epochs\n",
    "\n",
    "    def activation(self, x):\n",
    "        return 1 if x >= 0 else 0\n",
    "\n",
    "    def predict(self, inputs):\n",
    "        summation = sum([w * x for w, x in zip(self.weights[1:], inputs)]) + self.weights[0]\n",
    "        return self.activation(summation)\n",
    "\n",
    "    def train(self, training_inputs, labels):\n",
    "        for _ in range(self.epochs):\n",
    "            for inputs, label in zip(training_inputs, labels):\n",
    "                prediction = self.predict(inputs)\n",
    "                error = label - prediction\n",
    "                self.weights[1:] = [w + self.learning_rate * error * x for w, x in zip(self.weights[1:], inputs)]\n",
    "                self.weights[0] += self.learning_rate * error\n",
    "\n",
    "# OR gate training data\n",
    "training_inputs_or = [[0, 0], [0, 1], [1, 0], [1, 1]]\n",
    "labels_or = [0, 1, 1, 1]\n",
    "\n",
    "# AND gate training data\n",
    "training_inputs_and = [[0, 0], [0, 1], [1, 0], [1, 1]]\n",
    "labels_and = [0, 0, 0, 1]\n",
    "\n",
    "# Creating perceptrons for OR and AND gates\n",
    "perceptron_or = Perceptron(2)\n",
    "perceptron_and = Perceptron(2)\n",
    "\n",
    "# Training perceptrons\n",
    "perceptron_or.train(training_inputs_or, labels_or)\n",
    "perceptron_and.train(training_inputs_and, labels_and)\n",
    "\n",
    "# Testing OR gate\n",
    "print(\"OR Gate:\")\n",
    "for inputs in training_inputs_or:\n",
    "    print(inputs, perceptron_or.predict(inputs))\n",
    "\n",
    "# Testing AND gate\n",
    "print(\"\\nAND Gate:\")\n",
    "for inputs in training_inputs_and:\n",
    "    print(inputs, perceptron_and.predict(inputs))\n"
   ]
  }
 ],
 "metadata": {
  "kernelspec": {
   "display_name": "Python 3",
   "language": "python",
   "name": "python3"
  },
  "language_info": {
   "codemirror_mode": {
    "name": "ipython",
    "version": 3
   },
   "file_extension": ".py",
   "mimetype": "text/x-python",
   "name": "python",
   "nbconvert_exporter": "python",
   "pygments_lexer": "ipython3",
   "version": "3.12.1"
  }
 },
 "nbformat": 4,
 "nbformat_minor": 2
}
