{
  "cells": [
    {
      "cell_type": "code",
      "source": [
        "#No of Chickens\n",
        "#Your Function\n",
        "\n",
        "def chickens(count):\n",
        "    if count >= 10:\n",
        "        return 'Number of chickens: many'\n",
        "    else:\n",
        "\n",
        "        x = \"Number of chickens \"+ str(count)\n",
        "        return x\n",
        "\n",
        "\n",
        "# Testing\n",
        "print(chickens(5))  # Output: Number of chickens: 5\n",
        "print(chickens(23)) # Output: Number of chickens: many"
      ],
      "metadata": {
        "colab": {
          "base_uri": "https://localhost:8080/"
        },
        "id": "5cqzry4h5NiP",
        "outputId": "16b8694b-3262-4d97-fe82-3976ec9bab80"
      },
      "execution_count": null,
      "outputs": [
        {
          "output_type": "stream",
          "name": "stdout",
          "text": [
            "Number of chickens 5\n",
            "Number of chickens: many\n"
          ]
        }
      ]
    },
    {
      "cell_type": "code",
      "source": [
        "# Strings from both ends\n",
        "#Your Function\n",
        "\n",
        "def new_string(s):\n",
        "    if len(s) < 3:\n",
        "        return ''\n",
        "    else:\n",
        "        return s[:3] + s[-3:]\n",
        "\n",
        "\n",
        "#Testing\n",
        "print(new_string('intelligence'))  # Output: 'intcne'\n",
        "print(new_string('cat'))           # Output: 'cat'\n",
        "print(new_string('hi'))            # Output: ''\n",
        "\n"
      ],
      "metadata": {
        "colab": {
          "base_uri": "https://localhost:8080/"
        },
        "id": "yKREfxvv5RL0",
        "outputId": "f16de578-5155-4902-8f82-475a56c25406"
      },
      "execution_count": null,
      "outputs": [
        {
          "output_type": "stream",
          "name": "stdout",
          "text": [
            "intnce\n",
            "catcat\n",
            "\n"
          ]
        }
      ]
    },
    {
      "cell_type": "code",
      "source": [
        "def replace_occurrences(s):\n",
        "     first_char = s[0]\n",
        "\n",
        "     x = first_char + s[1:].replace(first_char, '@')\n",
        "     z = first_char.lower()\n",
        "\n",
        "\n",
        "\n",
        "     return first_char + x[1:].replace(z, '@')\n",
        "\n",
        "# Testing\n",
        "print(replace_occurrences('Ooogle'))  # Output: 'O@@gle'\n",
        "print(replace_occurrences('Appae'))   # Output: 'App@e'\n",
        "print(replace_occurrences('banana'))  # Output: 'banana'\n"
      ],
      "metadata": {
        "colab": {
          "base_uri": "https://localhost:8080/"
        },
        "id": "3izERb5r6sfC",
        "outputId": "dffd3159-dcdf-4467-d4b6-c57229ada26f"
      },
      "execution_count": null,
      "outputs": [
        {
          "output_type": "stream",
          "name": "stdout",
          "text": [
            "O@@gle\n",
            "App@e\n",
            "banana\n"
          ]
        }
      ]
    },
    {
      "cell_type": "code",
      "source": [
        "def string_jumble(a, b):\n",
        "    new_a = b[:2] + a[2:]\n",
        "    new_b = a[:2] + b[2:]\n",
        "    return new_a + ' ' + new_b\n",
        "\n",
        "# Testing\n",
        "print(string_jumble('mix', 'pod'))       # Output: 'pox mid'\n",
        "print(string_jumble('dog', 'dinner'))    # Output: 'dig donner'\n"
      ],
      "metadata": {
        "colab": {
          "base_uri": "https://localhost:8080/"
        },
        "id": "skgcPzT57GNu",
        "outputId": "444d8d46-2846-48af-aee1-fa8069d4b25c"
      },
      "execution_count": null,
      "outputs": [
        {
          "output_type": "stream",
          "name": "stdout",
          "text": [
            "pox mid\n",
            "dig donner\n"
          ]
        }
      ]
    },
    {
      "cell_type": "code",
      "source": [
        "#Matching first and last characters\n",
        "#Your Function\n",
        "\n",
        "def count_matching_strings(strings):\n",
        "    count = 0\n",
        "    for s in strings:\n",
        "        if len(s) >= 2 and s[0] == s[-1]:\n",
        "            count += 1\n",
        "    return count\n",
        "\n",
        "\n",
        "# Testing\n",
        "\n",
        "strings = ['hello', 'world', 'level', 'python', 'pop', 'roar']\n",
        "print(count_matching_strings(strings))  # Output: 3 (since 'level', 'pop', and 'roar' match the criteria)\n"
      ],
      "metadata": {
        "colab": {
          "base_uri": "https://localhost:8080/"
        },
        "id": "bonDQBRu_RNU",
        "outputId": "72ab5261-8911-4432-fbc1-698cffea54cf"
      },
      "execution_count": null,
      "outputs": [
        {
          "output_type": "stream",
          "name": "stdout",
          "text": [
            "3\n"
          ]
        }
      ]
    },
    {
      "cell_type": "code",
      "source": [
        "def group_strings(string):\n",
        "    # Defining a custom key function\n",
        "    def sort_key(s):\n",
        "        if s.startswith('x'):\n",
        "            return (0, s)\n",
        "        else:\n",
        "            return (1, s)\n",
        "\n",
        "\n",
        "    sorted_strings = sorted(string, key=sort_key)\n",
        "    return sorted_strings\n",
        "\n",
        "# Testing\n",
        "strings = ['mix', 'xyz', 'apple', 'xanadu', 'aardvark']\n",
        "print(group_strings(strings))  # Output: ['xanadu', 'xyz', 'aardvark', 'apple', 'mix']\n"
      ],
      "metadata": {
        "colab": {
          "base_uri": "https://localhost:8080/"
        },
        "id": "pKmNyLBABV5C",
        "outputId": "79b2cb5a-cd26-47a9-f274-020e5bdb7c23"
      },
      "execution_count": null,
      "outputs": [
        {
          "output_type": "stream",
          "name": "stdout",
          "text": [
            "['xanadu', 'xyz', 'aardvark', 'apple', 'mix']\n"
          ]
        }
      ]
    },
    {
      "cell_type": "code",
      "source": [
        "def sort_tuples(tuples_list):\n",
        "    def last_element(tuple):\n",
        "        return tuple[-1]\n",
        "\n",
        "    return sorted(tuples_list, key=last_element)\n",
        "\n",
        "# Testing\n",
        "tuples_list = [(1, 7), (1, 3), (3, 4, 5), (2, 2)]\n",
        "print(sort_tuples(tuples_list))  # Output: [(2, 2), (1, 3), (3, 4, 5), (1, 7)]\n"
      ],
      "metadata": {
        "colab": {
          "base_uri": "https://localhost:8080/"
        },
        "id": "tMjwBEADCbJQ",
        "outputId": "f03a4d67-951b-43d7-b28e-d614dd064445"
      },
      "execution_count": null,
      "outputs": [
        {
          "output_type": "stream",
          "name": "stdout",
          "text": [
            "[(2, 2), (1, 3), (3, 4, 5), (1, 7)]\n"
          ]
        }
      ]
    },
    {
      "cell_type": "code",
      "source": [
        "#Palindrome\n",
        "\n",
        "#Your Function here\n",
        "\n",
        "\n",
        "def is_palindrome(s):\n",
        "    return s == s[::-1]\n",
        "\n",
        "\n",
        "#Testing\n",
        "\n",
        "print(is_palindrome(\"racecar\"))     # Output: True\n",
        "print(is_palindrome(\"hello\"))       # Output: False"
      ],
      "metadata": {
        "colab": {
          "base_uri": "https://localhost:8080/"
        },
        "id": "petqPwG8FniQ",
        "outputId": "084bc162-ef50-42a9-ee0a-d679eab5da41"
      },
      "execution_count": null,
      "outputs": [
        {
          "output_type": "stream",
          "name": "stdout",
          "text": [
            "True\n",
            "False\n"
          ]
        }
      ]
    },
    {
      "cell_type": "code",
      "source": [
        "def flatten_list(nested_list):\n",
        "    flattened = []\n",
        "    for element in nested_list:\n",
        "        if isinstance(element, list):\n",
        "            flattened.extend(flatten_list(element))\n",
        "        else:\n",
        "            flattened.append(element)\n",
        "    return flattened\n",
        "\n",
        "# Testing\n",
        "nested_list = [[1, 2, 3], [4, 5], [[2,3], [3, 4]]]\n",
        "print(flatten_list(nested_list))  # Output: [1, 2, 3, 4, 5, 2, 3, 3, 4]\n"
      ],
      "metadata": {
        "colab": {
          "base_uri": "https://localhost:8080/"
        },
        "id": "9uqlaFViGoKa",
        "outputId": "83f9c9f3-d16a-4a01-c3a2-7d5ae7671c97"
      },
      "execution_count": null,
      "outputs": [
        {
          "output_type": "stream",
          "name": "stdout",
          "text": [
            "[1, 2, 3, 4, 5, 2, 3, 3, 4]\n"
          ]
        }
      ]
    },
    {
      "cell_type": "code",
      "source": [
        "def list_intersection(list1, list2):\n",
        "    set1 = set(list1)\n",
        "    set2 = set(list2)\n",
        "\n",
        "\n",
        "    intersection = set1.intersection(set2)\n",
        "\n",
        "    intersection_list = list(intersection)\n",
        "\n",
        "    return intersection_list\n",
        "\n",
        "# Testing\n",
        "list1 = [1, 2, 3, 4, 5]\n",
        "list2 = [4, 5, 6, 7, 8]\n",
        "print(list_intersection(list1, list2))  # Output: [4, 5]\n"
      ],
      "metadata": {
        "colab": {
          "base_uri": "https://localhost:8080/"
        },
        "id": "ddBrJoYAHRwP",
        "outputId": "fa2e6933-8a53-48cc-dd37-cdbd4629090e"
      },
      "execution_count": null,
      "outputs": [
        {
          "output_type": "stream",
          "name": "stdout",
          "text": [
            "[4, 5]\n"
          ]
        }
      ]
    },
    {
      "cell_type": "code",
      "source": [
        "def are_anagrams(str1, str2):\n",
        "\n",
        "    str1 = str1.lower().replace(\" \", \"\")\n",
        "    str2 = str2.lower().replace(\" \", \"\")\n",
        "\n",
        "\n",
        "    sorted_str1 = sorted(str1)\n",
        "    sorted_str2 = sorted(str2)\n",
        "\n",
        "\n",
        "    return sorted_str1 == sorted_str2\n",
        "\n",
        "# Testing\n",
        "print(are_anagrams(\"cinema\", \"iceman\"))            # Output: True\n",
        "print(are_anagrams(\"listen\", \"silent\"))            # Output: True\n",
        "print(are_anagrams(\"Astronomer\", \"Moonstarer\"))    # Output: True\n",
        "print(are_anagrams(\"hello\", \"world\"))              # Output: False\n"
      ],
      "metadata": {
        "id": "bCVyKdWRJpu1",
        "colab": {
          "base_uri": "https://localhost:8080/"
        },
        "outputId": "4601b9c7-29a7-41d5-e046-d2a80c36bbc4"
      },
      "execution_count": 34,
      "outputs": [
        {
          "output_type": "stream",
          "name": "stdout",
          "text": [
            "True\n",
            "True\n",
            "True\n",
            "False\n"
          ]
        }
      ]
    },
    {
      "cell_type": "code",
      "source": [
        "def binary_search(nums, target):\n",
        "    left = 0\n",
        "    right = len(nums) - 1\n",
        "\n",
        "    while left <= right:\n",
        "        mid = (left + right) // 2\n",
        "        if nums[mid] == target:\n",
        "            return mid\n",
        "        elif nums[mid] < target:\n",
        "            left = mid + 1\n",
        "        else:\n",
        "            right = mid - 1\n",
        "\n",
        "    return -1\n",
        "\n",
        "# Testing\n",
        "nums = [5, 3, 8, 2, 7, 1, 6, 4]\n",
        "\n",
        "sorted_nums = sorted(nums)\n",
        "\n",
        "target = 7\n",
        "index = binary_search(sorted_nums, target)\n",
        "print(index)\n"
      ],
      "metadata": {
        "colab": {
          "base_uri": "https://localhost:8080/"
        },
        "id": "dYyRyRImKV4Z",
        "outputId": "48ef4648-fd0f-4094-ad54-72c914c10bf7"
      },
      "execution_count": 37,
      "outputs": [
        {
          "output_type": "stream",
          "name": "stdout",
          "text": [
            "6\n"
          ]
        }
      ]
    },
    {
      "cell_type": "code",
      "source": [
        "def merge_sort(arr):\n",
        "\n",
        "    if len(arr) <= 1:\n",
        "        return arr\n",
        "\n",
        "\n",
        "    mid = len(arr) // 2\n",
        "    left_half = arr[:mid]\n",
        "    right_half = arr[mid:]\n",
        "\n",
        "    left_half_sorted = merge_sort(left_half)\n",
        "    right_half_sorted = merge_sort(right_half)\n",
        "\n",
        "\n",
        "    return merge(left_half_sorted, right_half_sorted)\n",
        "\n",
        "def merge(left, right):\n",
        "    merged = []\n",
        "    left_index, right_index = 0, 0\n",
        "\n",
        "    while left_index < len(left) and right_index < len(right):\n",
        "        if left[left_index] < right[right_index]:\n",
        "            merged.append(left[left_index])\n",
        "            left_index += 1\n",
        "        else:\n",
        "            merged.append(right[right_index])\n",
        "            right_index += 1\n",
        "\n",
        "\n",
        "    merged.extend(left[left_index:])\n",
        "    merged.extend(right[right_index:])\n",
        "\n",
        "    return merged\n",
        "\n",
        "# Testing\n",
        "arr = [5, 3, 8, 2, 7, 1, 6, 4]\n",
        "print(merge_sort(arr))  # Output: [1, 2, 3, 4, 5, 6, 7, 8]\n"
      ],
      "metadata": {
        "colab": {
          "base_uri": "https://localhost:8080/"
        },
        "id": "epwOUdhJKz-_",
        "outputId": "97925865-cdb0-4a11-d233-fddad16b4952"
      },
      "execution_count": 38,
      "outputs": [
        {
          "output_type": "stream",
          "name": "stdout",
          "text": [
            "[1, 2, 3, 4, 5, 6, 7, 8]\n"
          ]
        }
      ]
    },
    {
      "cell_type": "code",
      "source": [
        "def quick_sort(arr):\n",
        "\n",
        "    if len(arr) <= 1:\n",
        "        return arr\n",
        "\n",
        "\n",
        "    pivot = arr[0]\n",
        "\n",
        "\n",
        "    left = [x for x in arr[1:] if x <= pivot]\n",
        "    right = [x for x in arr[1:] if x > pivot]\n",
        "\n",
        "\n",
        "    return quick_sort(left) + [pivot] + quick_sort(right)\n",
        "\n",
        "# Testing\n",
        "arr = [5, 3, 8, 2, 7, 1, 6, 4]\n",
        "print(quick_sort(arr))  # Output: [1, 2, 3, 4, 5, 6, 7, 8]\n"
      ],
      "metadata": {
        "colab": {
          "base_uri": "https://localhost:8080/"
        },
        "id": "uKO6JjM1LazN",
        "outputId": "05f9b1fa-40f5-4445-d33a-dfcec3955370"
      },
      "execution_count": 39,
      "outputs": [
        {
          "output_type": "stream",
          "name": "stdout",
          "text": [
            "[1, 2, 3, 4, 5, 6, 7, 8]\n"
          ]
        }
      ]
    },
    {
      "cell_type": "code",
      "source": [
        "def count_distinct_elements(nums):\n",
        "    return len(set(nums))\n",
        "\n",
        "# Testing\n",
        "nums = [1, 2, 2, 3, 4, 2]\n",
        "print(count_distinct_elements(nums))  # Output: 4\n"
      ],
      "metadata": {
        "colab": {
          "base_uri": "https://localhost:8080/"
        },
        "id": "KJ2rCpHELdZW",
        "outputId": "03c133eb-e529-47ac-dac8-a3765521e8c3"
      },
      "execution_count": 41,
      "outputs": [
        {
          "output_type": "stream",
          "name": "stdout",
          "text": [
            "4\n"
          ]
        }
      ]
    },
    {
      "cell_type": "code",
      "source": [
        "#Union and Intersection of Sets\n",
        "\n",
        "#Your Function\n",
        "\n",
        "def union_and_intersection(set1, set2):\n",
        "    union_set = set1.union(set2)\n",
        "    intersection_set = set1.intersection(set2)\n",
        "    return union_set, intersection_set\n",
        "\n",
        "# Testing\n",
        "set1 = {1, 2, 3, 4, 5}\n",
        "set2 = {4, 5, 6, 7, 8}\n",
        "union_result, intersection_result = union_and_intersection(set1, set2)\n",
        "print(\"Union:\", union_result)\n",
        "print(\"Intersection:\", intersection_result)\n"
      ],
      "metadata": {
        "colab": {
          "base_uri": "https://localhost:8080/"
        },
        "id": "WJ96xWBiLgRv",
        "outputId": "5e989e9a-1b78-4fa4-b2c0-6235914c5a06"
      },
      "execution_count": 40,
      "outputs": [
        {
          "output_type": "stream",
          "name": "stdout",
          "text": [
            "Union: {1, 2, 3, 4, 5, 6, 7, 8}\n",
            "Intersection: {4, 5}\n"
          ]
        }
      ]
    }
  ],
  "metadata": {
    "language_info": {
      "name": "python"
    },
    "colab": {
      "provenance": []
    },
    "kernelspec": {
      "name": "python3",
      "display_name": "Python 3"
    }
  },
  "nbformat": 4,
  "nbformat_minor": 0
}