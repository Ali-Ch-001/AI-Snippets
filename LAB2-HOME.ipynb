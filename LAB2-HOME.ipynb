{
 "cells": [
  {
   "cell_type": "markdown",
   "metadata": {},
   "source": [
    "Q1 Union and Intersection of Sets"
   ]
  },
  {
   "cell_type": "code",
   "execution_count": 1,
   "metadata": {},
   "outputs": [
    {
     "name": "stdout",
     "output_type": "stream",
     "text": [
      "Union: {1, 2, 3, 4, 5, 6, 7, 8}\n",
      "Intersection: {4, 5}\n"
     ]
    }
   ],
   "source": [
    "def union_and_intersection(set1, set2):\n",
    "    union_set = set1.union(set2)\n",
    "    intersection_set = set1.intersection(set2)\n",
    "    return union_set, intersection_set\n",
    "\n",
    "# Testing\n",
    "set1 = {1, 2, 3, 4, 5}\n",
    "set2 = {4, 5, 6, 7, 8}\n",
    "union_result, intersection_result = union_and_intersection(set1, set2)\n",
    "print(\"Union:\", union_result)\n",
    "print(\"Intersection:\", intersection_result)"
   ]
  },
  {
   "cell_type": "markdown",
   "metadata": {},
   "source": [
    "Q2 Unique values in a dictionary"
   ]
  },
  {
   "cell_type": "code",
   "execution_count": 2,
   "metadata": {},
   "outputs": [
    {
     "name": "stdout",
     "output_type": "stream",
     "text": [
      "[1, 2, 3]\n"
     ]
    }
   ],
   "source": [
    "def remove_duplicates(dictionary):\n",
    "    unique_values = list(set(dictionary.values()))\n",
    "    return unique_values\n",
    "\n",
    "# Example usage:\n",
    "my_dict = {'a': 1, 'b': 2, 'c': 1, 'd': 3, 'e': 2}\n",
    "result = remove_duplicates(my_dict)\n",
    "print(result)  # Output: [1, 2, 3]\n"
   ]
  },
  {
   "cell_type": "markdown",
   "metadata": {},
   "source": [
    "Q3 Most common values in a dictionary"
   ]
  },
  {
   "cell_type": "code",
   "execution_count": 6,
   "metadata": {},
   "outputs": [
    {
     "name": "stdout",
     "output_type": "stream",
     "text": [
      "['a', 'b', 'c', 'd', 'e', 'f']\n"
     ]
    }
   ],
   "source": [
    "def most_frequent_keys(dictionary):\n",
    "    # Count frequencies of values\n",
    "    value_counts = {}\n",
    "    for value in dictionary.values():\n",
    "        value_counts[value] = value_counts.get(value, 0) + 1\n",
    "    \n",
    "    # Find maximum frequency\n",
    "    max_frequency = max(value_counts.values())\n",
    "    \n",
    "    # Collect keys with maximum frequency values\n",
    "    frequent_keys = [key for key, value in dictionary.items() if value_counts[value] == max_frequency]\n",
    "    \n",
    "    return frequent_keys\n",
    "\n",
    "# Example usage:\n",
    "my_dict = {'a': 1, 'b': 2, 'c': 1, 'd': 3, 'e': 2, 'f': 3}\n",
    "result = most_frequent_keys(my_dict)\n",
    "print(result)  # Output: ['b', 'e', 'd', 'f']\n"
   ]
  },
  {
   "cell_type": "markdown",
   "metadata": {},
   "source": [
    "Q4 Combine dictionaries"
   ]
  },
  {
   "cell_type": "code",
   "execution_count": 7,
   "metadata": {},
   "outputs": [
    {
     "name": "stdout",
     "output_type": "stream",
     "text": [
      "{'a': 1, 'b': 3, 'c': 3, 'd': 4, 'e': 5}\n"
     ]
    }
   ],
   "source": [
    "def merge_dicts(d1, d2):\n",
    "    merged_dict = {}\n",
    "    \n",
    "    # Add key-value pairs from d1\n",
    "    for key, value in d1.items():\n",
    "        merged_dict[key] = value\n",
    "    \n",
    "    # Add key-value pairs from d2, overwriting if key exists\n",
    "    for key, value in d2.items():\n",
    "        merged_dict[key] = value\n",
    "    \n",
    "    return merged_dict\n",
    "\n",
    "# Example usage:\n",
    "d1 = {'a': 1, 'b': 2, 'c': 3}\n",
    "d2 = {'b': 3, 'd': 4, 'e': 5}\n",
    "result = merge_dicts(d1, d2)\n",
    "print(result)  # Output: {'a': 1, 'b': 2, 'c': 3, 'd': 4, 'e': 5}\n"
   ]
  },
  {
   "cell_type": "markdown",
   "metadata": {},
   "source": [
    "Q5 Filter list of dictionaries"
   ]
  },
  {
   "cell_type": "code",
   "execution_count": 8,
   "metadata": {},
   "outputs": [
    {
     "name": "stdout",
     "output_type": "stream",
     "text": [
      "[{'a': 1, 'b': 2}, {'a': 6, 'c': 7}]\n"
     ]
    }
   ],
   "source": [
    "def filter_dicts_by_key(dict_list, key):\n",
    "    return [d for d in dict_list if key in d]\n",
    "\n",
    "# Example usage:\n",
    "dict_list = [{'a': 1, 'b': 2}, {'b': 3, 'c': 4}, {'d': 5}, {'a': 6, 'c': 7}]\n",
    "key = 'a'\n",
    "result = filter_dicts_by_key(dict_list, key)\n",
    "print(result)  # Output: [{'a': 1, 'b': 2}, {'a': 6, 'c': 7}]\n"
   ]
  },
  {
   "cell_type": "markdown",
   "metadata": {},
   "source": [
    "Q6 Find duplicates in a list"
   ]
  },
  {
   "cell_type": "code",
   "execution_count": 9,
   "metadata": {},
   "outputs": [
    {
     "name": "stdout",
     "output_type": "stream",
     "text": [
      "[2, 3, 5]\n"
     ]
    }
   ],
   "source": [
    "def find_duplicates(lst):\n",
    "    seen = set()\n",
    "    duplicates = set()\n",
    "    \n",
    "    for item in lst:\n",
    "        if item in seen:\n",
    "            duplicates.add(item)\n",
    "        else:\n",
    "            seen.add(item)\n",
    "    \n",
    "    return list(duplicates)\n",
    "\n",
    "# Example usage:\n",
    "my_list = [1, 2, 3, 4, 2, 3, 5, 6, 5]\n",
    "result = find_duplicates(my_list)\n",
    "print(result)  # Output: [2, 3, 5]\n"
   ]
  }
 ],
 "metadata": {
  "kernelspec": {
   "display_name": "Python 3",
   "language": "python",
   "name": "python3"
  },
  "language_info": {
   "codemirror_mode": {
    "name": "ipython",
    "version": 3
   },
   "file_extension": ".py",
   "mimetype": "text/x-python",
   "name": "python",
   "nbconvert_exporter": "python",
   "pygments_lexer": "ipython3",
   "version": "3.12.1"
  }
 },
 "nbformat": 4,
 "nbformat_minor": 2
}
