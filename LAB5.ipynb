{
 "cells": [
  {
   "cell_type": "markdown",
   "metadata": {},
   "source": [
    "q1 For a list of integers, find square and cube for each value using lambda\n",
    "function."
   ]
  },
  {
   "cell_type": "code",
   "execution_count": 1,
   "metadata": {},
   "outputs": [
    {
     "name": "stdout",
     "output_type": "stream",
     "text": [
      "Original Numbers: [1, 2, 3, 4, 5]\n",
      "Squared Numbers: [1, 4, 9, 16, 25]\n",
      "Cubed Numbers: [1, 8, 27, 64, 125]\n"
     ]
    }
   ],
   "source": [
    "# Sample list of integers\n",
    "numbers = [1, 2, 3, 4, 5]\n",
    "\n",
    "# Define lambda functions for square and cube\n",
    "square = lambda x: x ** 2\n",
    "cube = lambda x: x ** 3\n",
    "\n",
    "# Apply the lambda functions using map\n",
    "squared_numbers = list(map(square, numbers))\n",
    "cubed_numbers = list(map(cube, numbers))\n",
    "\n",
    "# Print the results\n",
    "print(\"Original Numbers:\", numbers)\n",
    "print(\"Squared Numbers:\", squared_numbers)\n",
    "print(\"Cubed Numbers:\", cubed_numbers)\n"
   ]
  },
  {
   "cell_type": "markdown",
   "metadata": {},
   "source": [
    "q2 Create a class for rectangle shape that calculates its area based upon the\n",
    "length and width"
   ]
  },
  {
   "cell_type": "code",
   "execution_count": 4,
   "metadata": {},
   "outputs": [
    {
     "name": "stdout",
     "output_type": "stream",
     "text": [
      "Area of the rectangle with length 5 and width 4 is: 20\n"
     ]
    }
   ],
   "source": [
    "class Rectangle:\n",
    "    def __init__(self, length, width):\n",
    "        self.length = length\n",
    "        self.width = width\n",
    "\n",
    "    def calculate_area(self):\n",
    "        return self.length * self.width\n",
    "\n",
    "# Example usage:\n",
    "length = int(input(\"Enter length of the rectangle: \"))\n",
    "width = int(input(\"Enter width of the rectangle: \"))\n",
    "rectangle = Rectangle(length, width)\n",
    "area = rectangle.calculate_area()\n",
    "print(\"Area of the rectangle with length {} and width {} is: {}\".format(length, width, area))\n"
   ]
  },
  {
   "cell_type": "markdown",
   "metadata": {},
   "source": [
    "q3 form queue such that it works on liffo order"
   ]
  },
  {
   "cell_type": "code",
   "execution_count": 5,
   "metadata": {},
   "outputs": [
    {
     "name": "stdout",
     "output_type": "stream",
     "text": [
      "Queue size: 3\n",
      "Dequeuing: 3\n",
      "Dequeuing: 2\n",
      "Dequeuing: 1\n",
      "Queue is empty\n",
      "Dequeuing: None\n"
     ]
    }
   ],
   "source": [
    "class LIFOQueue:\n",
    "    def __init__(self):\n",
    "        self.queue = []\n",
    "\n",
    "    def enqueue(self, item):\n",
    "        # To enforce LIFO behavior, we add items to the end of the list\n",
    "        self.queue.append(item)\n",
    "\n",
    "    def dequeue(self):\n",
    "        if not self.is_empty():\n",
    "            # To enforce LIFO behavior, we remove items from the end of the list\n",
    "            return self.queue.pop()\n",
    "        else:\n",
    "            print(\"Queue is empty\")\n",
    "            return None\n",
    "\n",
    "    def is_empty(self):\n",
    "        return len(self.queue) == 0\n",
    "\n",
    "    def size(self):\n",
    "        return len(self.queue)\n",
    "\n",
    "\n",
    "# Example usage:\n",
    "lifo_queue = LIFOQueue()\n",
    "lifo_queue.enqueue(1)\n",
    "lifo_queue.enqueue(2)\n",
    "lifo_queue.enqueue(3)\n",
    "\n",
    "print(\"Queue size:\", lifo_queue.size())\n",
    "print(\"Dequeuing:\", lifo_queue.dequeue())\n",
    "print(\"Dequeuing:\", lifo_queue.dequeue())\n",
    "print(\"Dequeuing:\", lifo_queue.dequeue())\n",
    "print(\"Dequeuing:\", lifo_queue.dequeue())\n"
   ]
  }
 ],
 "metadata": {
  "kernelspec": {
   "display_name": "Python 3",
   "language": "python",
   "name": "python3"
  },
  "language_info": {
   "codemirror_mode": {
    "name": "ipython",
    "version": 3
   },
   "file_extension": ".py",
   "mimetype": "text/x-python",
   "name": "python",
   "nbconvert_exporter": "python",
   "pygments_lexer": "ipython3",
   "version": "3.12.1"
  }
 },
 "nbformat": 4,
 "nbformat_minor": 2
}
