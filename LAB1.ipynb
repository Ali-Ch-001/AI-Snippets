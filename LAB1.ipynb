{
  "nbformat": 4,
  "nbformat_minor": 0,
  "metadata": {
    "colab": {
      "provenance": []
    },
    "kernelspec": {
      "name": "python3",
      "display_name": "Python 3"
    },
    "language_info": {
      "name": "python"
    }
  },
  "cells": [
    {
      "cell_type": "markdown",
      "source": [
        "task 1 9.1"
      ],
      "metadata": {
        "id": "uHKrkwHh_k0I"
      }
    },
    {
      "cell_type": "code",
      "execution_count": null,
      "metadata": {
        "colab": {
          "base_uri": "https://localhost:8080/"
        },
        "id": "GK8ExFV4_QLQ",
        "outputId": "e83585b5-7f95-4fdb-e987-00688375b8e8"
      },
      "outputs": [
        {
          "output_type": "stream",
          "name": "stdout",
          "text": [
            "['h', 'e', 'l', 'l', 'o']\n",
            "['o', 'l', 'l', 'e', 'h']\n",
            "['H', 'a', 'n', 'n', 'a', 'h']\n",
            "['h', 'a', 'n', 'n', 'a', 'H']\n"
          ]
        }
      ],
      "source": [
        "def reverse_string(s):\n",
        "    left, right = 0, len(s) - 1\n",
        "\n",
        "    while left < right:\n",
        "\n",
        "        s[left], s[right] = s[right], s[left]\n",
        "\n",
        "\n",
        "        left += 1\n",
        "        right -= 1\n",
        "\n",
        "# Example 1\n",
        "input_str1 = [\"h\", \"e\", \"l\", \"l\", \"o\"]\n",
        "print(input_str1)\n",
        "reverse_string(input_str1)\n",
        "print(input_str1)\n",
        "\n",
        "# Example 2\n",
        "input_str2 = [\"H\", \"a\", \"n\", \"n\", \"a\", \"h\"]\n",
        "print(input_str2)\n",
        "reverse_string(input_str2)\n",
        "print(input_str2)\n",
        "\n"
      ]
    },
    {
      "cell_type": "markdown",
      "source": [
        "Task 2 9.2"
      ],
      "metadata": {
        "id": "4f1S3gy5AeCE"
      }
    },
    {
      "cell_type": "code",
      "source": [
        "def is_palindrome(s):\n",
        "\n",
        "    def is_alphanumeric(char):\n",
        "        return ('a' <= char <= 'z') or ('A' <= char <= 'Z') or ('0' <= char <= '9')\n",
        "\n",
        "\n",
        "    s = s.lower()\n",
        "\n",
        "\n",
        "    left, right = 0, len(s) - 1\n",
        "\n",
        "    while left < right:\n",
        "\n",
        "        while left < right and not is_alphanumeric(s[left]):\n",
        "            left += 1\n",
        "\n",
        "\n",
        "        while left < right and not is_alphanumeric(s[right]):\n",
        "            right -= 1\n",
        "\n",
        "\n",
        "        if s[left] != s[right]:\n",
        "            return False\n",
        "\n",
        "\n",
        "        left += 1\n",
        "        right -= 1\n",
        "\n",
        "\n",
        "    return True\n",
        "\n",
        "# Example 1\n",
        "input_str1 = \"A man, a plan, a canal: Panama\"\n",
        "output1 = is_palindrome(input_str1)\n",
        "print(output1)  # Output: True\n",
        "\n",
        "# Example 2\n",
        "input_str2 = \"race a car\"\n",
        "output2 = is_palindrome(input_str2)\n",
        "print(output2)  # Output: False\n"
      ],
      "metadata": {
        "colab": {
          "base_uri": "https://localhost:8080/"
        },
        "id": "M32JgegYAg1Q",
        "outputId": "2f20a950-eb0c-4a1b-abce-0fdea330a26a"
      },
      "execution_count": null,
      "outputs": [
        {
          "output_type": "stream",
          "name": "stdout",
          "text": [
            "True\n",
            "False\n"
          ]
        }
      ]
    },
    {
      "cell_type": "markdown",
      "source": [
        "Task 3\n"
      ],
      "metadata": {
        "id": "-7-ZHATMCB_-"
      }
    },
    {
      "cell_type": "code",
      "source": [
        "def my_sqrt(x):\n",
        "\n",
        "\n",
        "    if x == 0 or x == 1:\n",
        "        return x\n",
        "\n",
        "    x = x ** (1/2)\n",
        "\n",
        "    print(\"This is Floating num\",x)\n",
        "\n",
        "\n",
        "    return int(x)\n",
        "\n",
        "\n",
        "# Example 1\n",
        "input1 = 4\n",
        "output1 = my_sqrt(input1)\n",
        "print(\"This is int \",output1)  # Output: 2\n",
        "\n",
        "# Example 2\n",
        "input2 = 8\n",
        "output2 = my_sqrt(input2)\n",
        "print(\"This is int \",output2)  # Output: 2\n"
      ],
      "metadata": {
        "colab": {
          "base_uri": "https://localhost:8080/"
        },
        "id": "qcAyR7F6CDZb",
        "outputId": "8919089e-8898-449b-eaf9-20a2032afb54"
      },
      "execution_count": 9,
      "outputs": [
        {
          "output_type": "stream",
          "name": "stdout",
          "text": [
            "This is Floating num 2.0\n",
            "this is int  2\n",
            "This is Floating num 2.8284271247461903\n",
            "this is int  2\n"
          ]
        }
      ]
    }
  ]
}